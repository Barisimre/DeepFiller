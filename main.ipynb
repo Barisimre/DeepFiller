{
 "cells": [
  {
   "cell_type": "code",
   "execution_count": 1,
   "id": "547e32f4-6803-44c8-b27f-9a1b02eb23e4",
   "metadata": {},
   "outputs": [],
   "source": [
    "import torch\n",
    "import os\n",
    "import numpy as np\n",
    "from tqdm.notebook import tqdm\n",
    "import pickle\n",
    "import torchvision.transforms as T\n",
    "import torchvision\n",
    "from models import Generator, Classifier\n",
    "import time\n",
    "from datetime import datetime\n",
    "import wandb\n",
    "# from random_erase import RandomErasing"
   ]
  },
  {
   "cell_type": "code",
   "execution_count": 2,
   "id": "c21b7119-e57e-4355-9b11-90932e1ea29a",
   "metadata": {},
   "outputs": [],
   "source": [
    "random_erase = T.RandomErasing(p=1.0)\n",
    "\n",
    "def resizeOddSizes(data):\n",
    "    size = data.shape\n",
    "    return torchvision.transforms.CenterCrop((size[1] - (size[1] % 4), size[2] - (size[2] % 4)))(data)\n",
    "    \n",
    "    \n",
    "\n",
    "data_transform = T.Compose([\n",
    "    T.ToTensor(),\n",
    "    T.Resize(size=256),\n",
    "    T.RandomCrop(size=(256, 256))\n",
    "])     \n",
    "\n",
    "\n",
    "image_dataset = torchvision.datasets.ImageFolder('data/', transform=data_transform)\n",
    "\n",
    "        \n",
    "dataloader = torch.utils.data.DataLoader(image_dataset, batch_size=8, shuffle=True)"
   ]
  },
  {
   "cell_type": "code",
   "execution_count": 3,
   "id": "5632bb26-2d0e-4252-910f-e2a536900379",
   "metadata": {},
   "outputs": [],
   "source": [
    "device = torch.device(\"cuda\" if torch.cuda.is_available() else \"cpu\")\n",
    "\n",
    "generator = Generator(resnet_blocks=15, features=64).to(device)\n",
    "classifier = Classifier().to(device)\n",
    "optimizer_generator = torch.optim.Adam(generator.parameters(), lr=0.0002, betas=(0.5, 0.999))\n",
    "optimizer_classifier = torch.optim.Adam(classifier.parameters(), lr=0.0002, betas=(0.5, 0.999))\n",
    "criterion = torch.nn.MSELoss()\n",
    "EPOCHS = 100000000000\n",
    "losses = []"
   ]
  },
  {
   "cell_type": "code",
   "execution_count": 4,
   "id": "062cfda5-6966-477f-ae3e-ea510cc19088",
   "metadata": {},
   "outputs": [],
   "source": [
    "def displayImage(tensor, name):\n",
    "    image = torchvision.transforms.ToPILImage()(tensor)\n",
    "    image = image.resize((768, 256))\n",
    "    image.save(f'results/{name}.jpg')"
   ]
  },
  {
   "cell_type": "code",
   "execution_count": 5,
   "id": "2a4ad0cd-4c8a-4afd-a1e1-79794025130e",
   "metadata": {},
   "outputs": [],
   "source": [
    "def evaluate_criterion(output, is_real):\n",
    "    if is_real:\n",
    "        return criterion(output, torch.ones(size=output.shape).to(device))\n",
    "    else:\n",
    "        return criterion(output, torch.zeros(size=output.shape).to(device))\n",
    "    "
   ]
  },
  {
   "cell_type": "code",
   "execution_count": 6,
   "id": "4fd052bf-d64e-4dd7-9b3f-ad11d2d04a39",
   "metadata": {},
   "outputs": [],
   "source": [
    "def backward_generator(generated_batch):\n",
    "    generator_loss = evaluate_criterion(classifier(generated_batch), True)\n",
    "    return generator_loss\n",
    "    "
   ]
  },
  {
   "cell_type": "code",
   "execution_count": 7,
   "id": "fac3fd5a-e403-42cf-ac9e-d4aab1e109c4",
   "metadata": {},
   "outputs": [],
   "source": [
    "def identity_generator(original):\n",
    "    generator_loss = criterion(generator(original), original)\n",
    "    return generator_loss"
   ]
  },
  {
   "cell_type": "code",
   "execution_count": 8,
   "id": "af3b090e-5b6b-4d7d-b1ea-1fd102c92a2b",
   "metadata": {},
   "outputs": [],
   "source": [
    "def backward_classifier(batch, is_real):\n",
    "    classifier_loss = evaluate_criterion(classifier(batch), is_real)\n",
    "    return classifier_loss"
   ]
  },
  {
   "cell_type": "code",
   "execution_count": 9,
   "id": "21b469d3-75b3-49f8-ad61-d1fd071fe47e",
   "metadata": {},
   "outputs": [],
   "source": [
    "def trainOnBatch(batch):\n",
    "    removed = random_erase(batch).to(device)\n",
    "    original = batch.to(device)\n",
    "    generated = generator(removed)\n",
    "    \n",
    "    generator.zero_grad()\n",
    "    generator_loss = backward_generator(generated) + (identity_generator(original) * 5)\n",
    "    generator_loss.backward()\n",
    "    optimizer_generator.step()\n",
    "\n",
    "    classifier.zero_grad()\n",
    "    classifier_loss = backward_classifier(generated.detach(), False) + backward_classifier(original, True)\n",
    "    classifier_loss.backward()\n",
    "    optimizer_classifier.step()\n",
    "    \n",
    "    return generator_loss.item(), classifier_loss.item()\n",
    "\n",
    "    \n",
    "    \n",
    "\n",
    "    # displayImage(batch[0][0])\n",
    "    # displayImage(out[0].cpu())"
   ]
  },
  {
   "cell_type": "code",
   "execution_count": 10,
   "id": "8a98dc1a-533c-48f9-aeee-f5e8fc4f219f",
   "metadata": {},
   "outputs": [],
   "source": [
    "def showResult(batch, name):\n",
    "    removed = random_erase(batch).to(device)\n",
    "    original = batch.to(device)\n",
    "    out = generator(removed)\n",
    "    result = torch.cat([original[0], removed[0], out[0]], dim=2)\n",
    "    \n",
    "    displayImage(result, name)"
   ]
  },
  {
   "cell_type": "code",
   "execution_count": 11,
   "id": "a4ce8dbe-5b13-4de8-8ce0-27a9ed91b654",
   "metadata": {},
   "outputs": [],
   "source": [
    "def showResult(batch, name):\n",
    "    removed = random_erase(batch).to(device)\n",
    "    original = batch.to(device)\n",
    "    out = generator(removed)\n",
    "    result = torch.cat([original[0], removed[0], out[0]], dim=2)\n",
    "    \n",
    "    displayImage(result, name)"
   ]
  },
  {
   "cell_type": "code",
   "execution_count": 12,
   "id": "7a906aa7-df63-43d6-a380-8b7c9fbb6683",
   "metadata": {},
   "outputs": [
    {
     "name": "stderr",
     "output_type": "stream",
     "text": [
      "\u001b[34m\u001b[1mwandb\u001b[0m: Currently logged in as: \u001b[33mbarisimre\u001b[0m (\u001b[33mcpl57\u001b[0m). Use \u001b[1m`wandb login --relogin`\u001b[0m to force relogin\n"
     ]
    },
    {
     "data": {
      "text/html": [
       "wandb version 0.12.21 is available!  To upgrade, please run:\n",
       " $ pip install wandb --upgrade"
      ],
      "text/plain": [
       "<IPython.core.display.HTML object>"
      ]
     },
     "metadata": {},
     "output_type": "display_data"
    },
    {
     "data": {
      "text/html": [
       "Tracking run with wandb version 0.12.17"
      ],
      "text/plain": [
       "<IPython.core.display.HTML object>"
      ]
     },
     "metadata": {},
     "output_type": "display_data"
    },
    {
     "data": {
      "text/html": [
       "Run data is saved locally in <code>/home/baris/Documents/personal/filler/wandb/run-20220802_133213-1cmkrkb1</code>"
      ],
      "text/plain": [
       "<IPython.core.display.HTML object>"
      ]
     },
     "metadata": {},
     "output_type": "display_data"
    },
    {
     "data": {
      "text/html": [
       "Syncing run <strong><a href=\"https://wandb.ai/cpl57/Filler/runs/1cmkrkb1\" target=\"_blank\">cycle style2022-08-02 13:32:13.140230</a></strong> to <a href=\"https://wandb.ai/cpl57/Filler\" target=\"_blank\">Weights & Biases</a> (<a href=\"https://wandb.me/run\" target=\"_blank\">docs</a>)<br/>"
      ],
      "text/plain": [
       "<IPython.core.display.HTML object>"
      ]
     },
     "metadata": {},
     "output_type": "display_data"
    }
   ],
   "source": [
    "wandb.init(\n",
    "    project='Filler',\n",
    "    name=\"cycle style\" + str(datetime.now()),\n",
    "    config={}\n",
    ")\n",
    "\n",
    "def log_loss(epoch, generator_loss, classifier_loss):\n",
    "    wandb.log({\n",
    "        'epoch': e,\n",
    "        'gen_loss': generator_loss,\n",
    "        'clas_loss': classifier_loss\n",
    "    })\n",
    "    \n",
    "def log_image(batch):\n",
    "    removed = random_erase(batch).to(device)\n",
    "    original = batch.to(device)\n",
    "    out = generator(removed)\n",
    "    result = torch.cat([original[0], removed[0], out[0]], dim=2)\n",
    "    \n",
    "    image = torchvision.transforms.ToPILImage()(result)\n",
    "    # image = image.resize((768, 256))\n",
    "    \n",
    "    \n",
    "    wandb.log({\n",
    "        'image': wandb.Image(image),\n",
    "    })\n",
    "\n",
    "    "
   ]
  },
  {
   "cell_type": "code",
   "execution_count": null,
   "id": "c60e91e1-e7a9-497b-8a18-b4cc03548207",
   "metadata": {
    "tags": []
   },
   "outputs": [
    {
     "data": {
      "application/vnd.jupyter.widget-view+json": {
       "model_id": "3947fe2670eb4bc6a5af38054ae4ca0f",
       "version_major": 2,
       "version_minor": 0
      },
      "text/plain": [
       "  0%|          | 0/540 [00:00<?, ?it/s]"
      ]
     },
     "metadata": {},
     "output_type": "display_data"
    }
   ],
   "source": [
    "generator.train()\n",
    "classifier.train()\n",
    "for e in range(EPOCHS):\n",
    "    i = 0\n",
    "    for batch in tqdm(dataloader):\n",
    "        i += 1\n",
    "        try:\n",
    "            gen_loss, classifier_loss = trainOnBatch(batch[0])\n",
    "            log_loss(e, gen_loss, classifier_loss)\n",
    "        except ValueError as e:\n",
    "            print(e)\n",
    "            continue\n",
    "        if i % 50 == 0:\n",
    "            log_image(batch[0])\n",
    "            # print(sum(losses) / len(losses))\n",
    "            losses = []"
   ]
  }
 ],
 "metadata": {
  "kernelspec": {
   "display_name": "Python 3 (ipykernel)",
   "language": "python",
   "name": "python3"
  },
  "language_info": {
   "codemirror_mode": {
    "name": "ipython",
    "version": 3
   },
   "file_extension": ".py",
   "mimetype": "text/x-python",
   "name": "python",
   "nbconvert_exporter": "python",
   "pygments_lexer": "ipython3",
   "version": "3.10.4"
  }
 },
 "nbformat": 4,
 "nbformat_minor": 5
}
